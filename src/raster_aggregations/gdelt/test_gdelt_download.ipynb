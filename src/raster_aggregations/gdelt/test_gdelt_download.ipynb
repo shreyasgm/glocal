{
 "cells": [
  {
   "attachments": {},
   "cell_type": "markdown",
   "metadata": {},
   "source": [
    "# Test GDELT downloads\n"
   ]
  },
  {
   "cell_type": "code",
   "execution_count": 1,
   "metadata": {
    "vscode": {
     "languageId": "python"
    }
   },
   "outputs": [],
   "source": [
    "%reset -f"
   ]
  },
  {
   "cell_type": "code",
   "execution_count": 2,
   "metadata": {
    "vscode": {
     "languageId": "python"
    }
   },
   "outputs": [],
   "source": [
    "%reload_ext autoreload\n",
    "%autoreload 2"
   ]
  },
  {
   "cell_type": "code",
   "execution_count": 3,
   "metadata": {
    "vscode": {
     "languageId": "python"
    }
   },
   "outputs": [],
   "source": [
    "import requests\n",
    "import json\n",
    "import os\n",
    "import sys\n",
    "from pathlib import Path\n",
    "from bs4 import BeautifulSoup\n",
    "from time import sleep\n",
    "import requests\n",
    "from tqdm import tqdm\n",
    "from parfive import Downloader\n",
    "from parfive import SessionConfig\n"
   ]
  },
  {
   "cell_type": "code",
   "execution_count": 4,
   "metadata": {
    "vscode": {
     "languageId": "python"
    }
   },
   "outputs": [],
   "source": [
    "# Set filepaths\n",
    "PROJ = Path(os.path.realpath(\".\"))\n",
    "if str(PROJ) == \"/n/home10/shreyasgm\":\n",
    "    PROJ = Path(\n",
    "        \"/n/holystore01/LABS/hausmann_lab/lab/glocal_aggregations/shreyas/proj/2023-02-05 - Pipeline/gdelt\"\n",
    "    )\n",
    "ROOT = PROJ.parents[2]\n",
    "DATA = ROOT / \"data/\"\n"
   ]
  },
  {
   "cell_type": "code",
   "execution_count": 5,
   "metadata": {
    "vscode": {
     "languageId": "python"
    }
   },
   "outputs": [],
   "source": [
    "# Import custom modules\n",
    "sys.path.append(str(PROJ))\n",
    "sys.path.append(str(ROOT / \"src/\"))\n",
    "from general_utils import *\n",
    "\n",
    "# from download_fao import *\n"
   ]
  },
  {
   "cell_type": "code",
   "execution_count": 6,
   "metadata": {
    "vscode": {
     "languageId": "python"
    }
   },
   "outputs": [
    {
     "data": {
      "text/html": [
       "<div>\n",
       "<style scoped>\n",
       "    .dataframe tbody tr th:only-of-type {\n",
       "        vertical-align: middle;\n",
       "    }\n",
       "\n",
       "    .dataframe tbody tr th {\n",
       "        vertical-align: top;\n",
       "    }\n",
       "\n",
       "    .dataframe thead th {\n",
       "        text-align: right;\n",
       "    }\n",
       "</style>\n",
       "<table border=\"1\" class=\"dataframe\">\n",
       "  <thead>\n",
       "    <tr style=\"text-align: right;\">\n",
       "      <th></th>\n",
       "      <th>size</th>\n",
       "      <th>hash</th>\n",
       "      <th>url</th>\n",
       "      <th>filename</th>\n",
       "      <th>time</th>\n",
       "      <th>type</th>\n",
       "      <th>filetype</th>\n",
       "      <th>compression</th>\n",
       "    </tr>\n",
       "  </thead>\n",
       "  <tbody>\n",
       "    <tr>\n",
       "      <th>0</th>\n",
       "      <td>150383</td>\n",
       "      <td>297a16b493de7cf6ca809a7cc31d0b93</td>\n",
       "      <td>http://data.gdeltproject.org/gdeltv2/201502182...</td>\n",
       "      <td>20150218230000.export.CSV.zip</td>\n",
       "      <td>20150218230000</td>\n",
       "      <td>export</td>\n",
       "      <td>CSV</td>\n",
       "      <td>zip</td>\n",
       "    </tr>\n",
       "    <tr>\n",
       "      <th>1</th>\n",
       "      <td>318084</td>\n",
       "      <td>bb27f78ba45f69a17ea6ed7755e9f8ff</td>\n",
       "      <td>http://data.gdeltproject.org/gdeltv2/201502182...</td>\n",
       "      <td>20150218230000.mentions.CSV.zip</td>\n",
       "      <td>20150218230000</td>\n",
       "      <td>mentions</td>\n",
       "      <td>CSV</td>\n",
       "      <td>zip</td>\n",
       "    </tr>\n",
       "    <tr>\n",
       "      <th>2</th>\n",
       "      <td>10768507</td>\n",
       "      <td>ea8dde0beb0ba98810a92db068c0ce99</td>\n",
       "      <td>http://data.gdeltproject.org/gdeltv2/201502182...</td>\n",
       "      <td>20150218230000.gkg.csv.zip</td>\n",
       "      <td>20150218230000</td>\n",
       "      <td>gkg</td>\n",
       "      <td>csv</td>\n",
       "      <td>zip</td>\n",
       "    </tr>\n",
       "    <tr>\n",
       "      <th>3</th>\n",
       "      <td>149211</td>\n",
       "      <td>2a91041d7e72b0fc6a629e2ff867b240</td>\n",
       "      <td>http://data.gdeltproject.org/gdeltv2/201502182...</td>\n",
       "      <td>20150218231500.export.CSV.zip</td>\n",
       "      <td>20150218231500</td>\n",
       "      <td>export</td>\n",
       "      <td>CSV</td>\n",
       "      <td>zip</td>\n",
       "    </tr>\n",
       "    <tr>\n",
       "      <th>4</th>\n",
       "      <td>339037</td>\n",
       "      <td>dec3f427076b716a8112b9086c342523</td>\n",
       "      <td>http://data.gdeltproject.org/gdeltv2/201502182...</td>\n",
       "      <td>20150218231500.mentions.CSV.zip</td>\n",
       "      <td>20150218231500</td>\n",
       "      <td>mentions</td>\n",
       "      <td>CSV</td>\n",
       "      <td>zip</td>\n",
       "    </tr>\n",
       "  </tbody>\n",
       "</table>\n",
       "</div>"
      ],
      "text/plain": [
       "       size                              hash  \\\n",
       "0    150383  297a16b493de7cf6ca809a7cc31d0b93   \n",
       "1    318084  bb27f78ba45f69a17ea6ed7755e9f8ff   \n",
       "2  10768507  ea8dde0beb0ba98810a92db068c0ce99   \n",
       "3    149211  2a91041d7e72b0fc6a629e2ff867b240   \n",
       "4    339037  dec3f427076b716a8112b9086c342523   \n",
       "\n",
       "                                                 url  \\\n",
       "0  http://data.gdeltproject.org/gdeltv2/201502182...   \n",
       "1  http://data.gdeltproject.org/gdeltv2/201502182...   \n",
       "2  http://data.gdeltproject.org/gdeltv2/201502182...   \n",
       "3  http://data.gdeltproject.org/gdeltv2/201502182...   \n",
       "4  http://data.gdeltproject.org/gdeltv2/201502182...   \n",
       "\n",
       "                          filename            time      type filetype  \\\n",
       "0    20150218230000.export.CSV.zip  20150218230000    export      CSV   \n",
       "1  20150218230000.mentions.CSV.zip  20150218230000  mentions      CSV   \n",
       "2       20150218230000.gkg.csv.zip  20150218230000       gkg      csv   \n",
       "3    20150218231500.export.CSV.zip  20150218231500    export      CSV   \n",
       "4  20150218231500.mentions.CSV.zip  20150218231500  mentions      CSV   \n",
       "\n",
       "  compression  \n",
       "0         zip  \n",
       "1         zip  \n",
       "2         zip  \n",
       "3         zip  \n",
       "4         zip  "
      ]
     },
     "execution_count": 6,
     "metadata": {},
     "output_type": "execute_result"
    }
   ],
   "source": [
    "# Download file with all the links\n",
    "# masterfile_url = \"http://data.gdeltproject.org/gdeltv2/masterfilelist.txt\"\n",
    "masterfile_url = PROJ / \"masterfilelist.txt\"\n",
    "links_df = pd.read_csv(masterfile_url, sep=\" \", header=None, dtype=str)\n",
    "links_df.columns = [\"size\", \"hash\", \"url\"]\n",
    "# Make sure they're all string\n",
    "links_df = links_df.astype(str)\n",
    "links_df[\"filename\"] = links_df.url.apply(lambda x: x.split(\"/\")[-1])\n",
    "# Split filename by . into date, type, filetype and compression\n",
    "links_df[[\"time\", \"type\", \"filetype\", \"compression\"]] = links_df.filename.str.split(\n",
    "    \".\", expand=True\n",
    ")\n",
    "links_df.head()\n"
   ]
  },
  {
   "cell_type": "code",
   "execution_count": 7,
   "metadata": {
    "vscode": {
     "languageId": "python"
    }
   },
   "outputs": [
    {
     "data": {
      "text/plain": [
       "gkg         274577\n",
       "export      274572\n",
       "mentions    274572\n",
       "Name: type, dtype: int64"
      ]
     },
     "execution_count": 7,
     "metadata": {},
     "output_type": "execute_result"
    }
   ],
   "source": [
    "links_df.type.value_counts()\n"
   ]
  },
  {
   "cell_type": "code",
   "execution_count": 8,
   "metadata": {
    "vscode": {
     "languageId": "python"
    }
   },
   "outputs": [],
   "source": [
    "# Select files of the type \"export\"\n",
    "links_df = links_df[links_df.type == \"export\"]\n"
   ]
  },
  {
   "cell_type": "code",
   "execution_count": 9,
   "metadata": {
    "vscode": {
     "languageId": "python"
    }
   },
   "outputs": [
    {
     "name": "stdout",
     "output_type": "stream",
     "text": [
      "Downloading files:\n",
      "http://data.gdeltproject.org/gdeltv2/20150218230000.export.CSV.zip\n",
      "http://data.gdeltproject.org/gdeltv2/20150218231500.export.CSV.zip\n",
      "http://data.gdeltproject.org/gdeltv2/20150218233000.export.CSV.zip\n",
      "http://data.gdeltproject.org/gdeltv2/20150218234500.export.CSV.zip\n",
      "http://data.gdeltproject.org/gdeltv2/20150219000000.export.CSV.zip\n",
      "http://data.gdeltproject.org/gdeltv2/20150219001500.export.CSV.zip\n",
      "http://data.gdeltproject.org/gdeltv2/20150219003000.export.CSV.zip\n",
      "http://data.gdeltproject.org/gdeltv2/20150219004500.export.CSV.zip\n",
      "http://data.gdeltproject.org/gdeltv2/20150219010000.export.CSV.zip\n",
      "http://data.gdeltproject.org/gdeltv2/20150219011500.export.CSV.zip\n",
      "http://data.gdeltproject.org/gdeltv2/20150219013000.export.CSV.zip\n",
      "http://data.gdeltproject.org/gdeltv2/20150219014500.export.CSV.zip\n",
      "http://data.gdeltproject.org/gdeltv2/20150219020000.export.CSV.zip\n",
      "http://data.gdeltproject.org/gdeltv2/20150219021500.export.CSV.zip\n",
      "http://data.gdeltproject.org/gdeltv2/20150219023000.export.CSV.zip\n",
      "http://data.gdeltproject.org/gdeltv2/20150219024500.export.CSV.zip\n",
      "http://data.gdeltproject.org/gdeltv2/20150219030000.export.CSV.zip\n",
      "http://data.gdeltproject.org/gdeltv2/20150219031500.export.CSV.zip\n",
      "http://data.gdeltproject.org/gdeltv2/20150219033000.export.CSV.zip\n",
      "http://data.gdeltproject.org/gdeltv2/20150219040000.export.CSV.zip\n"
     ]
    },
    {
     "data": {
      "application/vnd.jupyter.widget-view+json": {
       "model_id": "2cfd9a3b50344b9ea08d9965235a8924",
       "version_major": 2,
       "version_minor": 0
      },
      "text/plain": [
       "Files Downloaded:   0%|          | 0/20 [00:00<?, ?file/s]"
      ]
     },
     "metadata": {},
     "output_type": "display_data"
    },
    {
     "data": {
      "application/vnd.jupyter.widget-view+json": {
       "model_id": "cf18ae84f0c3466ebedf98e97cc6a193",
       "version_major": 2,
       "version_minor": 0
      },
      "text/plain": [
       "20150219030000.export.CSV.zip:   0%|          | 0.00/120k [00:00<?, ?B/s]"
      ]
     },
     "metadata": {},
     "output_type": "display_data"
    },
    {
     "data": {
      "application/vnd.jupyter.widget-view+json": {
       "model_id": "5001e30c02d4463e9b58aa305ab20754",
       "version_major": 2,
       "version_minor": 0
      },
      "text/plain": [
       "20150219014500.export.CSV.zip:   0%|          | 0.00/165k [00:00<?, ?B/s]"
      ]
     },
     "metadata": {},
     "output_type": "display_data"
    },
    {
     "data": {
      "application/vnd.jupyter.widget-view+json": {
       "model_id": "09a6259176a74e71a75ff46196ce4b9a",
       "version_major": 2,
       "version_minor": 0
      },
      "text/plain": [
       "20150218230000.export.CSV.zip:   0%|          | 0.00/150k [00:00<?, ?B/s]"
      ]
     },
     "metadata": {},
     "output_type": "display_data"
    },
    {
     "data": {
      "application/vnd.jupyter.widget-view+json": {
       "model_id": "432d170e2cc644f39b3106b2803f6000",
       "version_major": 2,
       "version_minor": 0
      },
      "text/plain": [
       "20150218231500.export.CSV.zip:   0%|          | 0.00/149k [00:00<?, ?B/s]"
      ]
     },
     "metadata": {},
     "output_type": "display_data"
    },
    {
     "data": {
      "application/vnd.jupyter.widget-view+json": {
       "model_id": "005848e591f24634b883daeb5a1d29b3",
       "version_major": 2,
       "version_minor": 0
      },
      "text/plain": [
       "20150219024500.export.CSV.zip:   0%|          | 0.00/148k [00:00<?, ?B/s]"
      ]
     },
     "metadata": {},
     "output_type": "display_data"
    },
    {
     "data": {
      "application/vnd.jupyter.widget-view+json": {
       "model_id": "d94d65e0b35547e386c940b04662bc8b",
       "version_major": 2,
       "version_minor": 0
      },
      "text/plain": [
       "20150219000000.export.CSV.zip:   0%|          | 0.00/363k [00:00<?, ?B/s]"
      ]
     },
     "metadata": {},
     "output_type": "display_data"
    },
    {
     "data": {
      "application/vnd.jupyter.widget-view+json": {
       "model_id": "8f82b516066d43189c7b2db0143356c7",
       "version_major": 2,
       "version_minor": 0
      },
      "text/plain": [
       "20150219003000.export.CSV.zip:   0%|          | 0.00/255k [00:00<?, ?B/s]"
      ]
     },
     "metadata": {},
     "output_type": "display_data"
    },
    {
     "data": {
      "application/vnd.jupyter.widget-view+json": {
       "model_id": "089521e8db484d318291b1f620ab415f",
       "version_major": 2,
       "version_minor": 0
      },
      "text/plain": [
       "20150219011500.export.CSV.zip:   0%|          | 0.00/185k [00:00<?, ?B/s]"
      ]
     },
     "metadata": {},
     "output_type": "display_data"
    },
    {
     "data": {
      "application/vnd.jupyter.widget-view+json": {
       "model_id": "4e580062ac624f9c9327ab5026775ee0",
       "version_major": 2,
       "version_minor": 0
      },
      "text/plain": [
       "20150219010000.export.CSV.zip:   0%|          | 0.00/225k [00:00<?, ?B/s]"
      ]
     },
     "metadata": {},
     "output_type": "display_data"
    },
    {
     "data": {
      "application/vnd.jupyter.widget-view+json": {
       "model_id": "c82a78799fcd48c69ead688d2e12c4a8",
       "version_major": 2,
       "version_minor": 0
      },
      "text/plain": [
       "20150219001500.export.CSV.zip:   0%|          | 0.00/252k [00:00<?, ?B/s]"
      ]
     },
     "metadata": {},
     "output_type": "display_data"
    },
    {
     "data": {
      "application/vnd.jupyter.widget-view+json": {
       "model_id": "d255e0b85d4b4a47aeefff0d62ecdc65",
       "version_major": 2,
       "version_minor": 0
      },
      "text/plain": [
       "20150219013000.export.CSV.zip:   0%|          | 0.00/175k [00:00<?, ?B/s]"
      ]
     },
     "metadata": {},
     "output_type": "display_data"
    },
    {
     "data": {
      "application/vnd.jupyter.widget-view+json": {
       "model_id": "0ca2fdb972b646ea9c372095f6abb1c0",
       "version_major": 2,
       "version_minor": 0
      },
      "text/plain": [
       "20150219031500.export.CSV.zip:   0%|          | 0.00/117k [00:00<?, ?B/s]"
      ]
     },
     "metadata": {},
     "output_type": "display_data"
    },
    {
     "data": {
      "application/vnd.jupyter.widget-view+json": {
       "model_id": "5f1a7c0705364eaab277f29f225c37dc",
       "version_major": 2,
       "version_minor": 0
      },
      "text/plain": [
       "20150219033000.export.CSV.zip:   0%|          | 0.00/145k [00:00<?, ?B/s]"
      ]
     },
     "metadata": {},
     "output_type": "display_data"
    },
    {
     "data": {
      "application/vnd.jupyter.widget-view+json": {
       "model_id": "2bd049e0e47b484a9b74fc8857418560",
       "version_major": 2,
       "version_minor": 0
      },
      "text/plain": [
       "20150219020000.export.CSV.zip:   0%|          | 0.00/156k [00:00<?, ?B/s]"
      ]
     },
     "metadata": {},
     "output_type": "display_data"
    },
    {
     "data": {
      "application/vnd.jupyter.widget-view+json": {
       "model_id": "319a8893db984051ba49ec8cb9f8df6f",
       "version_major": 2,
       "version_minor": 0
      },
      "text/plain": [
       "20150219040000.export.CSV.zip:   0%|          | 0.00/133k [00:00<?, ?B/s]"
      ]
     },
     "metadata": {},
     "output_type": "display_data"
    },
    {
     "data": {
      "application/vnd.jupyter.widget-view+json": {
       "model_id": "2eb77c9f62cd45129abda71070d5d5b8",
       "version_major": 2,
       "version_minor": 0
      },
      "text/plain": [
       "20150219023000.export.CSV.zip:   0%|          | 0.00/175k [00:00<?, ?B/s]"
      ]
     },
     "metadata": {},
     "output_type": "display_data"
    },
    {
     "data": {
      "application/vnd.jupyter.widget-view+json": {
       "model_id": "e9320e41fdc3442983bd86b1713eeb47",
       "version_major": 2,
       "version_minor": 0
      },
      "text/plain": [
       "20150219021500.export.CSV.zip:   0%|          | 0.00/184k [00:00<?, ?B/s]"
      ]
     },
     "metadata": {},
     "output_type": "display_data"
    },
    {
     "data": {
      "application/vnd.jupyter.widget-view+json": {
       "model_id": "23f864c363cc47c0abe20161d5ba16a9",
       "version_major": 2,
       "version_minor": 0
      },
      "text/plain": [
       "20150218233000.export.CSV.zip:   0%|          | 0.00/150k [00:00<?, ?B/s]"
      ]
     },
     "metadata": {},
     "output_type": "display_data"
    },
    {
     "data": {
      "application/vnd.jupyter.widget-view+json": {
       "model_id": "ec23e60b26bc4933b24659b3b0245f2a",
       "version_major": 2,
       "version_minor": 0
      },
      "text/plain": [
       "20150218234500.export.CSV.zip:   0%|          | 0.00/159k [00:00<?, ?B/s]"
      ]
     },
     "metadata": {},
     "output_type": "display_data"
    },
    {
     "data": {
      "application/vnd.jupyter.widget-view+json": {
       "model_id": "07831c50117746f4877f2a4604d08185",
       "version_major": 2,
       "version_minor": 0
      },
      "text/plain": [
       "20150219004500.export.CSV.zip:   0%|          | 0.00/219k [00:00<?, ?B/s]"
      ]
     },
     "metadata": {},
     "output_type": "display_data"
    },
    {
     "name": "stdout",
     "output_type": "stream",
     "text": [
      "1/0 files failed to download. Please check `.errors` for details\n",
      "Errors encountered while downloading: \n",
      "\n",
      "------------------\n",
      "Filepath function: functools.partial(<function default_name at 0x2b5b06fb72e0>, PosixPath('/n/holystore01/LABS/hausmann_lab/lab/glocal_aggregations/shreyas/data/raw/rasters/gdelt_v2'))\n",
      "URL: http://data.gdeltproject.org/gdeltv2/20150218233000.export.CSV.zip\n",
      "Exception: Timeout on reading data from socket\n",
      "Trying to delete: /n/holystore01/LABS/hausmann_lab/lab/glocal_aggregations/shreyas/data/raw/rasters/gdelt_v2/20150218233000.export.CSV.zip\n",
      "Error deleting file:  [Errno 2] No such file or directory: '/n/holystore01/LABS/hausmann_lab/lab/glocal_aggregations/shreyas/data/raw/rasters/gdelt_v2/20150218233000.export.CSV.zip'\n",
      "Download failed. Retrying 1 of 2 times\n"
     ]
    },
    {
     "data": {
      "application/vnd.jupyter.widget-view+json": {
       "model_id": "5c3e46b033c54ce2b9c3e8025a3d5a84",
       "version_major": 2,
       "version_minor": 0
      },
      "text/plain": [
       "Files Downloaded:   0%|          | 0/1 [00:00<?, ?file/s]"
      ]
     },
     "metadata": {},
     "output_type": "display_data"
    },
    {
     "data": {
      "application/vnd.jupyter.widget-view+json": {
       "model_id": "ca2e9e9b0966400aa45677713594b70a",
       "version_major": 2,
       "version_minor": 0
      },
      "text/plain": [
       "20150218233000.export.CSV.zip:   0%|          | 0.00/150k [00:00<?, ?B/s]"
      ]
     },
     "metadata": {},
     "output_type": "display_data"
    }
   ],
   "source": [
    "# Set the destination folder\n",
    "gdelt_outdir = DATA / \"raw/rasters/gdelt_v2/\"\n",
    "# Download the files\n",
    "links_to_download = links_df[\"url\"].head(20).to_list()\n",
    "download_urls_to_dir(\n",
    "    urls=links_to_download,\n",
    "    outdir=gdelt_outdir,\n",
    "    max_conn=20,\n",
    "    max_splits=5,\n",
    "    overwrite=False,\n",
    "    retries=2,\n",
    ")\n"
   ]
  },
  {
   "cell_type": "code",
   "execution_count": 11,
   "metadata": {
    "vscode": {
     "languageId": "python"
    }
   },
   "outputs": [
    {
     "data": {
      "text/html": [
       "<div>\n",
       "<style scoped>\n",
       "    .dataframe tbody tr th:only-of-type {\n",
       "        vertical-align: middle;\n",
       "    }\n",
       "\n",
       "    .dataframe tbody tr th {\n",
       "        vertical-align: top;\n",
       "    }\n",
       "\n",
       "    .dataframe thead th {\n",
       "        text-align: right;\n",
       "    }\n",
       "</style>\n",
       "<table border=\"1\" class=\"dataframe\">\n",
       "  <thead>\n",
       "    <tr style=\"text-align: right;\">\n",
       "      <th></th>\n",
       "      <th>410412347</th>\n",
       "      <th>20140218</th>\n",
       "      <th>201402</th>\n",
       "      <th>2014</th>\n",
       "      <th>2014.1315</th>\n",
       "      <th>Unnamed: 5</th>\n",
       "      <th>Unnamed: 6</th>\n",
       "      <th>Unnamed: 7</th>\n",
       "      <th>Unnamed: 8</th>\n",
       "      <th>Unnamed: 9</th>\n",
       "      <th>...</th>\n",
       "      <th>4.1</th>\n",
       "      <th>Waterkloof, Free State, South Africa.1</th>\n",
       "      <th>SF.1</th>\n",
       "      <th>SF03.1</th>\n",
       "      <th>77359.1</th>\n",
       "      <th>-30.3098.1</th>\n",
       "      <th>25.2971.1</th>\n",
       "      <th>-1299321.1</th>\n",
       "      <th>20150218230000</th>\n",
       "      <th>http://www.dailymaverick.co.za/article/2015-02-19-sona2015-jamming-state-security-agency-steps-forward-blames-low-ranking-operator/</th>\n",
       "    </tr>\n",
       "  </thead>\n",
       "  <tbody>\n",
       "    <tr>\n",
       "      <th>0</th>\n",
       "      <td>410412348</td>\n",
       "      <td>20140218</td>\n",
       "      <td>201402</td>\n",
       "      <td>2014</td>\n",
       "      <td>2014.1315</td>\n",
       "      <td>NaN</td>\n",
       "      <td>NaN</td>\n",
       "      <td>NaN</td>\n",
       "      <td>NaN</td>\n",
       "      <td>NaN</td>\n",
       "      <td>...</td>\n",
       "      <td>4</td>\n",
       "      <td>Bengaluru, Karnataka, India</td>\n",
       "      <td>IN</td>\n",
       "      <td>IN19</td>\n",
       "      <td>70159</td>\n",
       "      <td>12.9833</td>\n",
       "      <td>77.5833</td>\n",
       "      <td>-2090174</td>\n",
       "      <td>20150218230000</td>\n",
       "      <td>http://timesofindia.indiatimes.com/city/bengal...</td>\n",
       "    </tr>\n",
       "    <tr>\n",
       "      <th>1</th>\n",
       "      <td>410412349</td>\n",
       "      <td>20140218</td>\n",
       "      <td>201402</td>\n",
       "      <td>2014</td>\n",
       "      <td>2014.1315</td>\n",
       "      <td>NaN</td>\n",
       "      <td>NaN</td>\n",
       "      <td>NaN</td>\n",
       "      <td>NaN</td>\n",
       "      <td>NaN</td>\n",
       "      <td>...</td>\n",
       "      <td>4</td>\n",
       "      <td>Great Southern, Victoria, Australia</td>\n",
       "      <td>AS</td>\n",
       "      <td>AS07</td>\n",
       "      <td>5387</td>\n",
       "      <td>-36.0667</td>\n",
       "      <td>146.4830</td>\n",
       "      <td>-1576477</td>\n",
       "      <td>20150218230000</td>\n",
       "      <td>http://www.voxy.co.nz/entertainment/coast-new-...</td>\n",
       "    </tr>\n",
       "    <tr>\n",
       "      <th>2</th>\n",
       "      <td>410412350</td>\n",
       "      <td>20140218</td>\n",
       "      <td>201402</td>\n",
       "      <td>2014</td>\n",
       "      <td>2014.1315</td>\n",
       "      <td>NaN</td>\n",
       "      <td>NaN</td>\n",
       "      <td>NaN</td>\n",
       "      <td>NaN</td>\n",
       "      <td>NaN</td>\n",
       "      <td>...</td>\n",
       "      <td>1</td>\n",
       "      <td>New Zealand</td>\n",
       "      <td>NZ</td>\n",
       "      <td>NZ</td>\n",
       "      <td>NaN</td>\n",
       "      <td>-41.0000</td>\n",
       "      <td>174.0000</td>\n",
       "      <td>NZ</td>\n",
       "      <td>20150218230000</td>\n",
       "      <td>http://www.voxy.co.nz/entertainment/coast-new-...</td>\n",
       "    </tr>\n",
       "    <tr>\n",
       "      <th>3</th>\n",
       "      <td>410412351</td>\n",
       "      <td>20140218</td>\n",
       "      <td>201402</td>\n",
       "      <td>2014</td>\n",
       "      <td>2014.1315</td>\n",
       "      <td>NaN</td>\n",
       "      <td>NaN</td>\n",
       "      <td>NaN</td>\n",
       "      <td>NaN</td>\n",
       "      <td>NaN</td>\n",
       "      <td>...</td>\n",
       "      <td>2</td>\n",
       "      <td>Idaho, United States</td>\n",
       "      <td>US</td>\n",
       "      <td>USID</td>\n",
       "      <td>NaN</td>\n",
       "      <td>44.2394</td>\n",
       "      <td>-114.5100</td>\n",
       "      <td>ID</td>\n",
       "      <td>20150218230000</td>\n",
       "      <td>http://www.eastidahonews.com/2015/02/neil-patr...</td>\n",
       "    </tr>\n",
       "    <tr>\n",
       "      <th>4</th>\n",
       "      <td>410412352</td>\n",
       "      <td>20140218</td>\n",
       "      <td>201402</td>\n",
       "      <td>2014</td>\n",
       "      <td>2014.1315</td>\n",
       "      <td>AUS</td>\n",
       "      <td>AUSTRALIA</td>\n",
       "      <td>AUS</td>\n",
       "      <td>NaN</td>\n",
       "      <td>NaN</td>\n",
       "      <td>...</td>\n",
       "      <td>4</td>\n",
       "      <td>Brisbane, Queensland, Australia</td>\n",
       "      <td>AS</td>\n",
       "      <td>AS04</td>\n",
       "      <td>154654</td>\n",
       "      <td>-27.5000</td>\n",
       "      <td>153.0170</td>\n",
       "      <td>-1561728</td>\n",
       "      <td>20150218230000</td>\n",
       "      <td>http://www.businessspectator.com.au/article/20...</td>\n",
       "    </tr>\n",
       "  </tbody>\n",
       "</table>\n",
       "<p>5 rows × 61 columns</p>\n",
       "</div>"
      ],
      "text/plain": [
       "   410412347  20140218  201402  2014  2014.1315 Unnamed: 5 Unnamed: 6  \\\n",
       "0  410412348  20140218  201402  2014  2014.1315        NaN        NaN   \n",
       "1  410412349  20140218  201402  2014  2014.1315        NaN        NaN   \n",
       "2  410412350  20140218  201402  2014  2014.1315        NaN        NaN   \n",
       "3  410412351  20140218  201402  2014  2014.1315        NaN        NaN   \n",
       "4  410412352  20140218  201402  2014  2014.1315        AUS  AUSTRALIA   \n",
       "\n",
       "  Unnamed: 7 Unnamed: 8 Unnamed: 9  ... 4.1  \\\n",
       "0        NaN        NaN        NaN  ...   4   \n",
       "1        NaN        NaN        NaN  ...   4   \n",
       "2        NaN        NaN        NaN  ...   1   \n",
       "3        NaN        NaN        NaN  ...   2   \n",
       "4        AUS        NaN        NaN  ...   4   \n",
       "\n",
       "  Waterkloof, Free State, South Africa.1 SF.1 SF03.1 77359.1 -30.3098.1  \\\n",
       "0            Bengaluru, Karnataka, India   IN   IN19   70159    12.9833   \n",
       "1    Great Southern, Victoria, Australia   AS   AS07    5387   -36.0667   \n",
       "2                            New Zealand   NZ     NZ     NaN   -41.0000   \n",
       "3                   Idaho, United States   US   USID     NaN    44.2394   \n",
       "4        Brisbane, Queensland, Australia   AS   AS04  154654   -27.5000   \n",
       "\n",
       "  25.2971.1 -1299321.1  20150218230000  \\\n",
       "0   77.5833   -2090174  20150218230000   \n",
       "1  146.4830   -1576477  20150218230000   \n",
       "2  174.0000         NZ  20150218230000   \n",
       "3 -114.5100         ID  20150218230000   \n",
       "4  153.0170   -1561728  20150218230000   \n",
       "\n",
       "  http://www.dailymaverick.co.za/article/2015-02-19-sona2015-jamming-state-security-agency-steps-forward-blames-low-ranking-operator/  \n",
       "0  http://timesofindia.indiatimes.com/city/bengal...                                                                                   \n",
       "1  http://www.voxy.co.nz/entertainment/coast-new-...                                                                                   \n",
       "2  http://www.voxy.co.nz/entertainment/coast-new-...                                                                                   \n",
       "3  http://www.eastidahonews.com/2015/02/neil-patr...                                                                                   \n",
       "4  http://www.businessspectator.com.au/article/20...                                                                                   \n",
       "\n",
       "[5 rows x 61 columns]"
      ]
     },
     "execution_count": 11,
     "metadata": {},
     "output_type": "execute_result"
    }
   ],
   "source": [
    "# Try to read csv directly\n",
    "df = pd.read_csv(DATA / \"raw/rasters/gdelt_v2/20150218230000.export.CSV\", sep=\"\\t\")\n",
    "df.head()"
   ]
  },
  {
   "cell_type": "code",
   "execution_count": 13,
   "metadata": {
    "vscode": {
     "languageId": "python"
    }
   },
   "outputs": [
    {
     "data": {
      "text/html": [
       "<div>\n",
       "<style scoped>\n",
       "    .dataframe tbody tr th:only-of-type {\n",
       "        vertical-align: middle;\n",
       "    }\n",
       "\n",
       "    .dataframe tbody tr th {\n",
       "        vertical-align: top;\n",
       "    }\n",
       "\n",
       "    .dataframe thead th {\n",
       "        text-align: right;\n",
       "    }\n",
       "</style>\n",
       "<table border=\"1\" class=\"dataframe\">\n",
       "  <thead>\n",
       "    <tr style=\"text-align: right;\">\n",
       "      <th></th>\n",
       "      <th>410412347</th>\n",
       "      <th>20140218</th>\n",
       "      <th>201402</th>\n",
       "      <th>2014</th>\n",
       "      <th>2014.1315</th>\n",
       "      <th>Unnamed: 5</th>\n",
       "      <th>Unnamed: 6</th>\n",
       "      <th>Unnamed: 7</th>\n",
       "      <th>Unnamed: 8</th>\n",
       "      <th>Unnamed: 9</th>\n",
       "      <th>...</th>\n",
       "      <th>4.1</th>\n",
       "      <th>Waterkloof, Free State, South Africa.1</th>\n",
       "      <th>SF.1</th>\n",
       "      <th>SF03.1</th>\n",
       "      <th>77359.1</th>\n",
       "      <th>-30.3098.1</th>\n",
       "      <th>25.2971.1</th>\n",
       "      <th>-1299321.1</th>\n",
       "      <th>20150218230000</th>\n",
       "      <th>http://www.dailymaverick.co.za/article/2015-02-19-sona2015-jamming-state-security-agency-steps-forward-blames-low-ranking-operator/</th>\n",
       "    </tr>\n",
       "  </thead>\n",
       "  <tbody>\n",
       "    <tr>\n",
       "      <th>0</th>\n",
       "      <td>410412348</td>\n",
       "      <td>20140218</td>\n",
       "      <td>201402</td>\n",
       "      <td>2014</td>\n",
       "      <td>2014.1315</td>\n",
       "      <td>NaN</td>\n",
       "      <td>NaN</td>\n",
       "      <td>NaN</td>\n",
       "      <td>NaN</td>\n",
       "      <td>NaN</td>\n",
       "      <td>...</td>\n",
       "      <td>4</td>\n",
       "      <td>Bengaluru, Karnataka, India</td>\n",
       "      <td>IN</td>\n",
       "      <td>IN19</td>\n",
       "      <td>70159</td>\n",
       "      <td>12.9833</td>\n",
       "      <td>77.5833</td>\n",
       "      <td>-2090174</td>\n",
       "      <td>20150218230000</td>\n",
       "      <td>http://timesofindia.indiatimes.com/city/bengal...</td>\n",
       "    </tr>\n",
       "    <tr>\n",
       "      <th>1</th>\n",
       "      <td>410412349</td>\n",
       "      <td>20140218</td>\n",
       "      <td>201402</td>\n",
       "      <td>2014</td>\n",
       "      <td>2014.1315</td>\n",
       "      <td>NaN</td>\n",
       "      <td>NaN</td>\n",
       "      <td>NaN</td>\n",
       "      <td>NaN</td>\n",
       "      <td>NaN</td>\n",
       "      <td>...</td>\n",
       "      <td>4</td>\n",
       "      <td>Great Southern, Victoria, Australia</td>\n",
       "      <td>AS</td>\n",
       "      <td>AS07</td>\n",
       "      <td>5387</td>\n",
       "      <td>-36.0667</td>\n",
       "      <td>146.4830</td>\n",
       "      <td>-1576477</td>\n",
       "      <td>20150218230000</td>\n",
       "      <td>http://www.voxy.co.nz/entertainment/coast-new-...</td>\n",
       "    </tr>\n",
       "    <tr>\n",
       "      <th>2</th>\n",
       "      <td>410412350</td>\n",
       "      <td>20140218</td>\n",
       "      <td>201402</td>\n",
       "      <td>2014</td>\n",
       "      <td>2014.1315</td>\n",
       "      <td>NaN</td>\n",
       "      <td>NaN</td>\n",
       "      <td>NaN</td>\n",
       "      <td>NaN</td>\n",
       "      <td>NaN</td>\n",
       "      <td>...</td>\n",
       "      <td>1</td>\n",
       "      <td>New Zealand</td>\n",
       "      <td>NZ</td>\n",
       "      <td>NZ</td>\n",
       "      <td>NaN</td>\n",
       "      <td>-41.0000</td>\n",
       "      <td>174.0000</td>\n",
       "      <td>NZ</td>\n",
       "      <td>20150218230000</td>\n",
       "      <td>http://www.voxy.co.nz/entertainment/coast-new-...</td>\n",
       "    </tr>\n",
       "    <tr>\n",
       "      <th>3</th>\n",
       "      <td>410412351</td>\n",
       "      <td>20140218</td>\n",
       "      <td>201402</td>\n",
       "      <td>2014</td>\n",
       "      <td>2014.1315</td>\n",
       "      <td>NaN</td>\n",
       "      <td>NaN</td>\n",
       "      <td>NaN</td>\n",
       "      <td>NaN</td>\n",
       "      <td>NaN</td>\n",
       "      <td>...</td>\n",
       "      <td>2</td>\n",
       "      <td>Idaho, United States</td>\n",
       "      <td>US</td>\n",
       "      <td>USID</td>\n",
       "      <td>NaN</td>\n",
       "      <td>44.2394</td>\n",
       "      <td>-114.5100</td>\n",
       "      <td>ID</td>\n",
       "      <td>20150218230000</td>\n",
       "      <td>http://www.eastidahonews.com/2015/02/neil-patr...</td>\n",
       "    </tr>\n",
       "    <tr>\n",
       "      <th>4</th>\n",
       "      <td>410412352</td>\n",
       "      <td>20140218</td>\n",
       "      <td>201402</td>\n",
       "      <td>2014</td>\n",
       "      <td>2014.1315</td>\n",
       "      <td>AUS</td>\n",
       "      <td>AUSTRALIA</td>\n",
       "      <td>AUS</td>\n",
       "      <td>NaN</td>\n",
       "      <td>NaN</td>\n",
       "      <td>...</td>\n",
       "      <td>4</td>\n",
       "      <td>Brisbane, Queensland, Australia</td>\n",
       "      <td>AS</td>\n",
       "      <td>AS04</td>\n",
       "      <td>154654</td>\n",
       "      <td>-27.5000</td>\n",
       "      <td>153.0170</td>\n",
       "      <td>-1561728</td>\n",
       "      <td>20150218230000</td>\n",
       "      <td>http://www.businessspectator.com.au/article/20...</td>\n",
       "    </tr>\n",
       "  </tbody>\n",
       "</table>\n",
       "<p>5 rows × 61 columns</p>\n",
       "</div>"
      ],
      "text/plain": [
       "   410412347  20140218  201402  2014  2014.1315 Unnamed: 5 Unnamed: 6  \\\n",
       "0  410412348  20140218  201402  2014  2014.1315        NaN        NaN   \n",
       "1  410412349  20140218  201402  2014  2014.1315        NaN        NaN   \n",
       "2  410412350  20140218  201402  2014  2014.1315        NaN        NaN   \n",
       "3  410412351  20140218  201402  2014  2014.1315        NaN        NaN   \n",
       "4  410412352  20140218  201402  2014  2014.1315        AUS  AUSTRALIA   \n",
       "\n",
       "  Unnamed: 7 Unnamed: 8 Unnamed: 9  ... 4.1  \\\n",
       "0        NaN        NaN        NaN  ...   4   \n",
       "1        NaN        NaN        NaN  ...   4   \n",
       "2        NaN        NaN        NaN  ...   1   \n",
       "3        NaN        NaN        NaN  ...   2   \n",
       "4        AUS        NaN        NaN  ...   4   \n",
       "\n",
       "  Waterkloof, Free State, South Africa.1 SF.1 SF03.1 77359.1 -30.3098.1  \\\n",
       "0            Bengaluru, Karnataka, India   IN   IN19   70159    12.9833   \n",
       "1    Great Southern, Victoria, Australia   AS   AS07    5387   -36.0667   \n",
       "2                            New Zealand   NZ     NZ     NaN   -41.0000   \n",
       "3                   Idaho, United States   US   USID     NaN    44.2394   \n",
       "4        Brisbane, Queensland, Australia   AS   AS04  154654   -27.5000   \n",
       "\n",
       "  25.2971.1 -1299321.1  20150218230000  \\\n",
       "0   77.5833   -2090174  20150218230000   \n",
       "1  146.4830   -1576477  20150218230000   \n",
       "2  174.0000         NZ  20150218230000   \n",
       "3 -114.5100         ID  20150218230000   \n",
       "4  153.0170   -1561728  20150218230000   \n",
       "\n",
       "  http://www.dailymaverick.co.za/article/2015-02-19-sona2015-jamming-state-security-agency-steps-forward-blames-low-ranking-operator/  \n",
       "0  http://timesofindia.indiatimes.com/city/bengal...                                                                                   \n",
       "1  http://www.voxy.co.nz/entertainment/coast-new-...                                                                                   \n",
       "2  http://www.voxy.co.nz/entertainment/coast-new-...                                                                                   \n",
       "3  http://www.eastidahonews.com/2015/02/neil-patr...                                                                                   \n",
       "4  http://www.businessspectator.com.au/article/20...                                                                                   \n",
       "\n",
       "[5 rows x 61 columns]"
      ]
     },
     "execution_count": 13,
     "metadata": {},
     "output_type": "execute_result"
    }
   ],
   "source": [
    "df2 = pd.read_csv(DATA / \"raw/rasters/gdelt_v2/20150218230000.export.CSV.zip\", sep=\"\\t\")\n",
    "df2.head()"
   ]
  },
  {
   "cell_type": "code",
   "execution_count": null,
   "metadata": {
    "vscode": {
     "languageId": "python"
    }
   },
   "outputs": [],
   "source": []
  }
 ],
 "metadata": {
  "kernelspec": {
   "display_name": "Python [conda env:cid] *",
   "language": "python",
   "name": "conda-env-cid-py"
  },
  "orig_nbformat": 4
 },
 "nbformat": 4,
 "nbformat_minor": 2
}

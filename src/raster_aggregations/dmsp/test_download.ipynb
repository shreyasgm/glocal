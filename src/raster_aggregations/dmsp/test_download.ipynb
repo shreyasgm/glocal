{
 "cells": [
  {
   "attachments": {},
   "cell_type": "markdown",
   "metadata": {},
   "source": [
    "# Test download scripts\n"
   ]
  },
  {
   "cell_type": "code",
   "execution_count": 1,
   "metadata": {},
   "outputs": [],
   "source": [
    "%reset -f"
   ]
  },
  {
   "cell_type": "code",
   "execution_count": 2,
   "metadata": {},
   "outputs": [],
   "source": [
    "%reload_ext autoreload\n",
    "%autoreload 2"
   ]
  },
  {
   "cell_type": "code",
   "execution_count": 3,
   "metadata": {},
   "outputs": [],
   "source": [
    "import os\n",
    "import sys\n",
    "import random\n",
    "import re\n",
    "from pathlib import Path\n",
    "import matplotlib.pyplot as plt\n",
    "import numpy as np\n",
    "import pandas as pd\n",
    "import seaborn as sns\n",
    "from typing import Optional\n",
    "import requests\n",
    "from bs4 import BeautifulSoup\n",
    "from time import sleep\n",
    "from parfive import Downloader\n",
    "from parfive import SessionConfig\n"
   ]
  },
  {
   "cell_type": "code",
   "execution_count": 4,
   "metadata": {},
   "outputs": [],
   "source": [
    "# Set filepaths\n",
    "PROJ = Path(os.path.realpath(\".\"))\n",
    "if str(PROJ) == \"/n/home10/shreyasgm\":\n",
    "    PROJ = Path(\n",
    "        \"/n/holystore01/LABS/hausmann_lab/lab/glocal_aggregations/shreyas/proj/2023-02-05 - Pipeline/dmsp\"\n",
    "    )\n",
    "ROOT = PROJ.parents[2]\n",
    "DATA = ROOT / \"data/\"\n"
   ]
  },
  {
   "cell_type": "code",
   "execution_count": 5,
   "metadata": {},
   "outputs": [],
   "source": [
    "# Import custom modules\n",
    "sys.path.append(str(PROJ))\n",
    "sys.path.append(str(PROJ / \"download_raster/viirs\"))\n",
    "sys.path.append(str(ROOT / \"src/\"))\n",
    "from general_utils import *\n",
    "\n",
    "# from download_viirs import *\n"
   ]
  },
  {
   "cell_type": "code",
   "execution_count": 6,
   "metadata": {},
   "outputs": [],
   "source": [
    "def get_table_rows(url):\n",
    "    # Parse html, get list of folders from table with id \"indexlist\"\n",
    "    r = requests.get(url)\n",
    "    soup = BeautifulSoup(r.text, \"html.parser\")\n",
    "    table = soup.find(\"table\", {\"id\": \"indexlist\"})\n",
    "    # Get all rows and folder names from each row\n",
    "    rows = table.find_all(\"tr\")\n",
    "    return rows\n"
   ]
  },
  {
   "cell_type": "code",
   "execution_count": 7,
   "metadata": {},
   "outputs": [],
   "source": [
    "# List available rasters\n",
    "rasters_root_url = \"https://eogdata.mines.edu/wwwdata/dmsp/v4composites_rearrange/\"\n",
    "rows = get_table_rows(rasters_root_url)\n",
    "dmsp_folders_list = []\n",
    "for row in rows:\n",
    "    rowlink = row.find(\"a\").get(\"href\")\n",
    "    if rowlink.endswith(\"/\"):\n",
    "        dmsp_folders_list.append(rowlink)\n"
   ]
  },
  {
   "cell_type": "code",
   "execution_count": 8,
   "metadata": {},
   "outputs": [],
   "source": [
    "# For each folder, open and get table rows again\n",
    "dmsp_folder_filenames = {}\n",
    "for dmsp_folder in dmsp_folders_list:\n",
    "    rows = get_table_rows(rasters_root_url + dmsp_folder)\n",
    "    folder_lights_url = None\n",
    "    folder_cf_cvg_url = None\n",
    "    for row in rows:\n",
    "        rowlink = row.find(\"a\").get(\"href\")\n",
    "        if rowlink.endswith(\".global.intercal.stable_lights.avg_vis.tif\"):\n",
    "            folder_lights_filename = rowlink\n",
    "        if rowlink.endswith(\".global.cf_cvg.tif\"):\n",
    "            folder_cf_cvg_filename = rowlink\n",
    "    dmsp_folder_filenames[dmsp_folder] = (\n",
    "        folder_lights_filename,\n",
    "        folder_cf_cvg_filename,\n",
    "    )\n"
   ]
  },
  {
   "cell_type": "code",
   "execution_count": 12,
   "metadata": {},
   "outputs": [
    {
     "data": {
      "text/plain": [
       "'116M'"
      ]
     },
     "execution_count": 12,
     "metadata": {},
     "output_type": "execute_result"
    }
   ],
   "source": [
    "dmsp_folder = dmsp_folders_list[0]\n",
    "\n",
    "rows = get_table_rows(rasters_root_url + dmsp_folder)\n",
    "row = rows[1]\n",
    "# Get the element of row with class indexcolsize\n",
    "rowsize = row.find(\"td\", {\"class\": \"indexcolsize\"}).text\n",
    "rowsize"
   ]
  },
  {
   "cell_type": "code",
   "execution_count": 24,
   "metadata": {},
   "outputs": [
    {
     "data": {
      "text/html": [
       "<div>\n",
       "<style scoped>\n",
       "    .dataframe tbody tr th:only-of-type {\n",
       "        vertical-align: middle;\n",
       "    }\n",
       "\n",
       "    .dataframe tbody tr th {\n",
       "        vertical-align: top;\n",
       "    }\n",
       "\n",
       "    .dataframe thead th {\n",
       "        text-align: right;\n",
       "    }\n",
       "</style>\n",
       "<table border=\"1\" class=\"dataframe\">\n",
       "  <thead>\n",
       "    <tr style=\"text-align: right;\">\n",
       "      <th></th>\n",
       "      <th>folder</th>\n",
       "      <th>stable_lights_filename</th>\n",
       "      <th>cf_cvg_filename</th>\n",
       "      <th>satellite</th>\n",
       "      <th>year</th>\n",
       "      <th>stable_lights_url</th>\n",
       "      <th>cf_cvg_url</th>\n",
       "    </tr>\n",
       "  </thead>\n",
       "  <tbody>\n",
       "    <tr>\n",
       "      <th>0</th>\n",
       "      <td>F10_1992</td>\n",
       "      <td>F101992.v4b.global.intercal.stable_lights.avg_...</td>\n",
       "      <td>F101992.v4b.global.cf_cvg.tif</td>\n",
       "      <td>10</td>\n",
       "      <td>1992</td>\n",
       "      <td>https://eogdata.mines.edu/wwwdata/dmsp/v4compo...</td>\n",
       "      <td>https://eogdata.mines.edu/wwwdata/dmsp/v4compo...</td>\n",
       "    </tr>\n",
       "    <tr>\n",
       "      <th>1</th>\n",
       "      <td>F10_1993</td>\n",
       "      <td>F101993.v4b.global.intercal.stable_lights.avg_...</td>\n",
       "      <td>F101993.v4b.global.cf_cvg.tif</td>\n",
       "      <td>10</td>\n",
       "      <td>1993</td>\n",
       "      <td>https://eogdata.mines.edu/wwwdata/dmsp/v4compo...</td>\n",
       "      <td>https://eogdata.mines.edu/wwwdata/dmsp/v4compo...</td>\n",
       "    </tr>\n",
       "    <tr>\n",
       "      <th>3</th>\n",
       "      <td>F12_1994</td>\n",
       "      <td>F121994.v4b.global.intercal.stable_lights.avg_...</td>\n",
       "      <td>F121994.v4b.global.cf_cvg.tif</td>\n",
       "      <td>12</td>\n",
       "      <td>1994</td>\n",
       "      <td>https://eogdata.mines.edu/wwwdata/dmsp/v4compo...</td>\n",
       "      <td>https://eogdata.mines.edu/wwwdata/dmsp/v4compo...</td>\n",
       "    </tr>\n",
       "    <tr>\n",
       "      <th>4</th>\n",
       "      <td>F12_1995</td>\n",
       "      <td>F121995.v4b.global.intercal.stable_lights.avg_...</td>\n",
       "      <td>F121995.v4b.global.cf_cvg.tif</td>\n",
       "      <td>12</td>\n",
       "      <td>1995</td>\n",
       "      <td>https://eogdata.mines.edu/wwwdata/dmsp/v4compo...</td>\n",
       "      <td>https://eogdata.mines.edu/wwwdata/dmsp/v4compo...</td>\n",
       "    </tr>\n",
       "    <tr>\n",
       "      <th>5</th>\n",
       "      <td>F12_1996</td>\n",
       "      <td>F121996.v4b.global.intercal.stable_lights.avg_...</td>\n",
       "      <td>F121996.v4b.global.cf_cvg.tif</td>\n",
       "      <td>12</td>\n",
       "      <td>1996</td>\n",
       "      <td>https://eogdata.mines.edu/wwwdata/dmsp/v4compo...</td>\n",
       "      <td>https://eogdata.mines.edu/wwwdata/dmsp/v4compo...</td>\n",
       "    </tr>\n",
       "  </tbody>\n",
       "</table>\n",
       "</div>"
      ],
      "text/plain": [
       "     folder                             stable_lights_filename  \\\n",
       "0  F10_1992  F101992.v4b.global.intercal.stable_lights.avg_...   \n",
       "1  F10_1993  F101993.v4b.global.intercal.stable_lights.avg_...   \n",
       "3  F12_1994  F121994.v4b.global.intercal.stable_lights.avg_...   \n",
       "4  F12_1995  F121995.v4b.global.intercal.stable_lights.avg_...   \n",
       "5  F12_1996  F121996.v4b.global.intercal.stable_lights.avg_...   \n",
       "\n",
       "                 cf_cvg_filename  satellite  year  \\\n",
       "0  F101992.v4b.global.cf_cvg.tif         10  1992   \n",
       "1  F101993.v4b.global.cf_cvg.tif         10  1993   \n",
       "3  F121994.v4b.global.cf_cvg.tif         12  1994   \n",
       "4  F121995.v4b.global.cf_cvg.tif         12  1995   \n",
       "5  F121996.v4b.global.cf_cvg.tif         12  1996   \n",
       "\n",
       "                                   stable_lights_url  \\\n",
       "0  https://eogdata.mines.edu/wwwdata/dmsp/v4compo...   \n",
       "1  https://eogdata.mines.edu/wwwdata/dmsp/v4compo...   \n",
       "3  https://eogdata.mines.edu/wwwdata/dmsp/v4compo...   \n",
       "4  https://eogdata.mines.edu/wwwdata/dmsp/v4compo...   \n",
       "5  https://eogdata.mines.edu/wwwdata/dmsp/v4compo...   \n",
       "\n",
       "                                          cf_cvg_url  \n",
       "0  https://eogdata.mines.edu/wwwdata/dmsp/v4compo...  \n",
       "1  https://eogdata.mines.edu/wwwdata/dmsp/v4compo...  \n",
       "3  https://eogdata.mines.edu/wwwdata/dmsp/v4compo...  \n",
       "4  https://eogdata.mines.edu/wwwdata/dmsp/v4compo...  \n",
       "5  https://eogdata.mines.edu/wwwdata/dmsp/v4compo...  "
      ]
     },
     "execution_count": 24,
     "metadata": {},
     "output_type": "execute_result"
    }
   ],
   "source": [
    "# Create a pandas dataframe with folder names\n",
    "dmsp_folders = (\n",
    "    pd.DataFrame.from_dict(\n",
    "        dmsp_folder_filenames,\n",
    "        orient=\"index\",\n",
    "        columns=[\"stable_lights_filename\", \"cf_cvg_filename\"],\n",
    "    )\n",
    "    .reset_index()\n",
    "    .rename(columns={\"index\": \"folder\"})\n",
    ")\n",
    "# Remove / at the end\n",
    "dmsp_folders[\"folder\"] = dmsp_folders[\"folder\"].str[:-1]\n",
    "# Split folder into satellite and year\n",
    "dmsp_folders[[\"satellite\", \"year\"]] = dmsp_folders[\"folder\"].str.split(\"_\", expand=True)\n",
    "# Remove F from satellite name\n",
    "dmsp_folders[\"satellite\"] = dmsp_folders[\"satellite\"].str[1:]\n",
    "# Convert satellite number to int\n",
    "dmsp_folders[\"satellite\"] = dmsp_folders[\"satellite\"].astype(int)\n",
    "# For each year, consider the latest available satellite\n",
    "dmsp_folders = dmsp_folders.sort_values([\"year\", \"satellite\"], ascending=[True, False])\n",
    "dmsp_folders = dmsp_folders.drop_duplicates(subset=[\"year\"], keep=\"first\")\n",
    "# Get download url for stable lights\n",
    "dmsp_folders[\"stable_lights_url\"] = (\n",
    "    rasters_root_url + dmsp_folders[\"folder\"] + \"/\" + dmsp_folders[\"stable_lights_filename\"]\n",
    ")\n",
    "# Get download url for cloud free coverage\n",
    "dmsp_folders[\"cf_cvg_url\"] = rasters_root_url + dmsp_folders[\"folder\"] + \"/\" + dmsp_folders[\"cf_cvg_filename\"]\n",
    "dmsp_folders.head()\n"
   ]
  },
  {
   "cell_type": "code",
   "execution_count": 25,
   "metadata": {},
   "outputs": [
    {
     "data": {
      "text/plain": [
       "'https://eogdata.mines.edu/wwwdata/dmsp/v4composites_rearrange/F10_1992/F101992.v4b.global.intercal.stable_lights.avg_vis.tif'"
      ]
     },
     "execution_count": 25,
     "metadata": {},
     "output_type": "execute_result"
    }
   ],
   "source": [
    "dmsp_folders[\"stable_lights_url\"].iloc[0]"
   ]
  },
  {
   "cell_type": "code",
   "execution_count": 14,
   "metadata": {},
   "outputs": [],
   "source": [
    "# Set an environment variable to store your password\n",
    "os.environ[\"EOG_PASSWORD\"] = \"your_password\"\n"
   ]
  },
  {
   "cell_type": "code",
   "execution_count": 18,
   "metadata": {},
   "outputs": [],
   "source": [
    "# Get download links\n",
    "download_links = list_available_rasters(endswith_filter=\".median_masked.dat.tif.gz\")\n"
   ]
  },
  {
   "cell_type": "code",
   "execution_count": 38,
   "metadata": {},
   "outputs": [],
   "source": [
    "# Get files to download\n",
    "download_dir = DATA / \"raw/rasters/viirs/vnl_v2.1\"\n",
    "files_to_download = get_files_to_download(download_links, download_dir)\n",
    "# Get headers\n",
    "headers = get_headers()\n"
   ]
  },
  {
   "cell_type": "code",
   "execution_count": 39,
   "metadata": {},
   "outputs": [
    {
     "data": {
      "text/plain": [
       "1"
      ]
     },
     "execution_count": 39,
     "metadata": {},
     "output_type": "execute_result"
    }
   ],
   "source": [
    "len(files_to_download)\n"
   ]
  },
  {
   "cell_type": "code",
   "execution_count": 40,
   "metadata": {},
   "outputs": [
    {
     "data": {
      "text/plain": [
       "['https://eogdata.mines.edu/nighttime_light/annual/v21/2017/VNL_v21_npp_2017_global_vcmslcfg_c202205302300.median_masked.dat.tif.gz']"
      ]
     },
     "execution_count": 40,
     "metadata": {},
     "output_type": "execute_result"
    }
   ],
   "source": [
    "files_to_download[0:2]\n"
   ]
  },
  {
   "cell_type": "code",
   "execution_count": 41,
   "metadata": {},
   "outputs": [
    {
     "data": {
      "application/vnd.jupyter.widget-view+json": {
       "model_id": "1d8ec7ad3ee04a9d9a0d3b78a7d12873",
       "version_major": 2,
       "version_minor": 0
      },
      "text/plain": [
       "Files Downloaded:   0%|          | 0/1 [00:00<?, ?file/s]"
      ]
     },
     "metadata": {},
     "output_type": "display_data"
    },
    {
     "data": {
      "application/vnd.jupyter.widget-view+json": {
       "model_id": "315cedd743a442b585e37eb7ebe42560",
       "version_major": 2,
       "version_minor": 0
      },
      "text/plain": [
       "VNL_v21_npp_2017_global_vcmslcfg_c202205302300.median_masked.dat.tif.gz:   0%|          | 0.00/287M [00:00<?, …"
      ]
     },
     "metadata": {},
     "output_type": "display_data"
    }
   ],
   "source": [
    "# Use parfive to download files\n",
    "dl = Downloader(max_conn=1, max_splits=3, progress=True, overwrite=False)\n",
    "for file_to_queue in files_to_download:\n",
    "    dl.enqueue_file(file_to_queue, path=download_dir, headers=headers)\n",
    "# Download\n",
    "res = dl.download()\n"
   ]
  },
  {
   "cell_type": "code",
   "execution_count": 42,
   "metadata": {},
   "outputs": [
    {
     "data": {
      "text/plain": [
       "[]"
      ]
     },
     "execution_count": 42,
     "metadata": {},
     "output_type": "execute_result"
    }
   ],
   "source": [
    "res.errors\n"
   ]
  },
  {
   "cell_type": "code",
   "execution_count": 43,
   "metadata": {},
   "outputs": [],
   "source": [
    "# if any files error out, retry\n",
    "if res.errors:\n",
    "    sleep(5)\n",
    "    dl.retry(res)\n"
   ]
  },
  {
   "cell_type": "code",
   "execution_count": 46,
   "metadata": {},
   "outputs": [
    {
     "name": "stderr",
     "output_type": "stream",
     "text": [
      "100%|██████████| 11/11 [05:50<00:00, 31.87s/it]\n"
     ]
    }
   ],
   "source": [
    "# Unpack each file\n",
    "for file in tqdm(list(download_dir.glob(\"*.gz\"))):\n",
    "    # Check if already unzipped\n",
    "    if not file.with_suffix(\"\").exists():\n",
    "        unpack_file(file)\n"
   ]
  },
  {
   "cell_type": "code",
   "execution_count": null,
   "metadata": {},
   "outputs": [],
   "source": []
  }
 ],
 "metadata": {
  "kernelspec": {
   "display_name": "Python [conda env:cid] *",
   "language": "python",
   "name": "conda-env-cid-py"
  },
  "language_info": {
   "codemirror_mode": {
    "name": "ipython",
    "version": 3
   },
   "file_extension": ".py",
   "mimetype": "text/x-python",
   "name": "python",
   "nbconvert_exporter": "python",
   "pygments_lexer": "ipython3",
   "version": "3.10.8"
  },
  "orig_nbformat": 4
 },
 "nbformat": 4,
 "nbformat_minor": 2
}

{
 "cells": [
  {
   "attachments": {},
   "cell_type": "markdown",
   "metadata": {},
   "source": [
    "# Test download scripts\n"
   ]
  },
  {
   "cell_type": "code",
   "execution_count": 1,
   "metadata": {},
   "outputs": [],
   "source": [
    "%reset -f"
   ]
  },
  {
   "cell_type": "code",
   "execution_count": 2,
   "metadata": {},
   "outputs": [],
   "source": [
    "%reload_ext autoreload\n",
    "%autoreload 2"
   ]
  },
  {
   "cell_type": "code",
   "execution_count": 3,
   "metadata": {},
   "outputs": [],
   "source": [
    "import os\n",
    "import sys\n",
    "import random\n",
    "import re\n",
    "import datetime\n",
    "from pathlib import Path\n",
    "import matplotlib.pyplot as plt\n",
    "import numpy as np\n",
    "import pandas as pd\n",
    "import seaborn as sns\n",
    "from typing import Optional\n",
    "import requests\n",
    "from bs4 import BeautifulSoup\n",
    "from time import sleep\n",
    "from parfive import Downloader\n",
    "from parfive import SessionConfig\n"
   ]
  },
  {
   "cell_type": "code",
   "execution_count": 4,
   "metadata": {},
   "outputs": [],
   "source": [
    "# Set filepaths\n",
    "PROJ = Path(os.path.realpath(\".\"))\n",
    "if str(PROJ) == \"/n/home10/shreyasgm\":\n",
    "    PROJ = Path(\n",
    "        \"/n/holystore01/LABS/hausmann_lab/lab/glocal_aggregations/shreyas/proj/2023-02-05 - Pipeline\"\n",
    "    )\n",
    "ROOT = PROJ.parents[1]\n",
    "DATA = ROOT / \"data/\"\n"
   ]
  },
  {
   "cell_type": "code",
   "execution_count": 5,
   "metadata": {},
   "outputs": [],
   "source": [
    "# Import custom modules\n",
    "sys.path.append(str(PROJ))\n",
    "sys.path.append(str(PROJ / \"download_raster/viirs\"))\n",
    "sys.path.append(str(ROOT / \"src/\"))\n",
    "from general_utils import *\n",
    "# from download_viirs import *\n"
   ]
  },
  {
   "cell_type": "code",
   "execution_count": 6,
   "metadata": {},
   "outputs": [],
   "source": [
    "# List available rasters\n",
    "rasters_root_url = \"https://eogdata.mines.edu/wwwdata/dmsp/extension_series/\"\n",
    "endswith_filter = \".global.stable_lights.avg_vis.tif\"\n",
    "# Get list of folders listed in the table\n",
    "soup = BeautifulSoup(requests.get(rasters_root_url).text, \"html.parser\")\n",
    "table = soup.find(\"table\")\n",
    "rows = table.find_all(\"tr\")\n",
    "rows = rows[1:]\n",
    "rows = [row.find_all(\"td\") for row in rows]\n",
    "rows = [[cell.text for cell in row] for row in rows]\n",
    "folderlist = []\n",
    "for row in rows:\n",
    "    for cell in row:\n",
    "        if cell.endswith(\"/\"):\n",
    "            folderlist.append(cell)\n",
    "# For each year, keep only the latest satellite\n",
    "folder_df = pd.DataFrame({\"folder\": folderlist})\n",
    "folder_df[[\"satellite\", \"year\"]] = folder_df[\"folder\"].str.replace(\"/\", \"\").str.split(\"_\", expand=True)\n",
    "folder_df[\"year\"] = folder_df[\"year\"].astype(int)\n",
    "folder_df = folder_df.sort_values([\"year\", \"satellite\"], ascending=[True, False])\n",
    "# For each year, get the latest satellite\n",
    "folder_df = folder_df.groupby(\"year\").head(1)\n",
    "folderlist = folder_df[\"folder\"].tolist()\n",
    "# Loop through folders and get list of files that matches the filter\n",
    "download_links = []\n",
    "for folder in folderlist:\n",
    "    # Get the table inside each folder\n",
    "    folder_url = f\"{rasters_root_url}{folder}/annual/\"\n",
    "    soup = BeautifulSoup(requests.get(folder_url).text, \"html.parser\")\n",
    "    table = soup.find(\"table\")\n",
    "    rows = table.find_all(\"tr\")\n",
    "    rows = rows[1:]\n",
    "    for row in rows:\n",
    "        rowlink = row.find(\"a\").get(\"href\")\n",
    "        endswith_met = endswith_filter is None or rowlink.endswith(endswith_filter)\n",
    "        if rowlink.endswith(\".tif\") and endswith_met:\n",
    "            row_download_link = f\"{folder_url}{rowlink}\"\n",
    "            download_links.append(row_download_link)"
   ]
  },
  {
   "cell_type": "code",
   "execution_count": 7,
   "metadata": {},
   "outputs": [
    {
     "data": {
      "text/plain": [
       "['https://eogdata.mines.edu/wwwdata/dmsp/extension_series/F15_2013//annual/F15_20130101_20131231.global.stable_lights.avg_vis.tif',\n",
       " 'https://eogdata.mines.edu/wwwdata/dmsp/extension_series/F15_2014//annual/F15_20140101_20141231.global.stable_lights.avg_vis.tif',\n",
       " 'https://eogdata.mines.edu/wwwdata/dmsp/extension_series/F15_2015//annual/F15_20150101_20151231.global.stable_lights.avg_vis.tif',\n",
       " 'https://eogdata.mines.edu/wwwdata/dmsp/extension_series/F16_2016//annual/F16_20160101_20161231.global.stable_lights.avg_vis.tif',\n",
       " 'https://eogdata.mines.edu/wwwdata/dmsp/extension_series/F16_2017//annual/F16_20170101_20171231.global.stable_lights.avg_vis.tif',\n",
       " 'https://eogdata.mines.edu/wwwdata/dmsp/extension_series/F16_2018//annual/F16_20180101_20181231.global.stable_lights.avg_vis.tif',\n",
       " 'https://eogdata.mines.edu/wwwdata/dmsp/extension_series/F16_2019//annual/F16_20190101_20191231.global.stable_lights.avg_vis.tif',\n",
       " 'https://eogdata.mines.edu/wwwdata/dmsp/extension_series/F16_2020//annual/F16_20200101_20201231.global.stable_lights.avg_vis.tif',\n",
       " 'https://eogdata.mines.edu/wwwdata/dmsp/extension_series/F16_2021//annual/F16_20210101_20211231.global.stable_lights.avg_vis.tif']"
      ]
     },
     "execution_count": 7,
     "metadata": {},
     "output_type": "execute_result"
    }
   ],
   "source": [
    "download_links"
   ]
  },
  {
   "cell_type": "code",
   "execution_count": null,
   "metadata": {},
   "outputs": [],
   "source": []
  }
 ],
 "metadata": {
  "kernelspec": {
   "display_name": "Python [conda env:cid] *",
   "language": "python",
   "name": "conda-env-cid-py"
  },
  "language_info": {
   "codemirror_mode": {
    "name": "ipython",
    "version": 3
   },
   "file_extension": ".py",
   "mimetype": "text/x-python",
   "name": "python",
   "nbconvert_exporter": "python",
   "pygments_lexer": "ipython3",
   "version": "3.10.8"
  },
  "orig_nbformat": 4
 },
 "nbformat": 4,
 "nbformat_minor": 2
}

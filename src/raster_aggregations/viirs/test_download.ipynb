{
 "cells": [
  {
   "attachments": {},
   "cell_type": "markdown",
   "metadata": {},
   "source": [
    "# Test download scripts\n"
   ]
  },
  {
   "cell_type": "code",
   "execution_count": 1,
   "metadata": {},
   "outputs": [],
   "source": [
    "%reset -f"
   ]
  },
  {
   "cell_type": "code",
   "execution_count": 2,
   "metadata": {},
   "outputs": [],
   "source": [
    "%reload_ext autoreload\n",
    "%autoreload 2"
   ]
  },
  {
   "cell_type": "code",
   "execution_count": 3,
   "metadata": {},
   "outputs": [],
   "source": [
    "import os\n",
    "import sys\n",
    "import random\n",
    "import re\n",
    "from pathlib import Path\n",
    "import matplotlib.pyplot as plt\n",
    "import numpy as np\n",
    "import pandas as pd\n",
    "import seaborn as sns\n",
    "from typing import Optional\n",
    "from bs4 import BeautifulSoup\n",
    "from time import sleep\n",
    "from parfive import Downloader\n",
    "from parfive import SessionConfig\n"
   ]
  },
  {
   "cell_type": "code",
   "execution_count": 4,
   "metadata": {},
   "outputs": [],
   "source": [
    "# Set filepaths\n",
    "PROJ = Path(os.path.realpath(\".\"))\n",
    "if str(PROJ) == \"/n/home10/shreyasgm\":\n",
    "    PROJ = Path(\n",
    "        \"/n/holystore01/LABS/hausmann_lab/lab/glocal_aggregations/shreyas/proj/2023-02-05 - Pipeline\"\n",
    "    )\n",
    "ROOT = PROJ.parents[1]\n",
    "DATA = ROOT / \"data/\"\n"
   ]
  },
  {
   "cell_type": "code",
   "execution_count": 6,
   "metadata": {},
   "outputs": [],
   "source": [
    "# Import custom modules\n",
    "sys.path.append(str(PROJ))\n",
    "sys.path.append(str(PROJ / \"download_raster/viirs\"))\n",
    "sys.path.append(str(ROOT / \"src/\"))\n",
    "from general_utils import *\n",
    "from download_viirs import *\n"
   ]
  },
  {
   "cell_type": "code",
   "execution_count": 7,
   "metadata": {},
   "outputs": [],
   "source": [
    "# List available rasters\n",
    "rasters_root_url = \"https://eogdata.mines.edu/nighttime_light/annual/v21/\"\n",
    "years_list = np.arange(2012, 2022)\n",
    "rasters_year_urls = {x: rasters_root_url + str(x) + \"/\" for x in years_list}\n"
   ]
  },
  {
   "cell_type": "code",
   "execution_count": 8,
   "metadata": {},
   "outputs": [],
   "source": [
    "a = []\n"
   ]
  },
  {
   "cell_type": "code",
   "execution_count": 9,
   "metadata": {},
   "outputs": [],
   "source": [
    "if a:\n",
    "    print(\"Check\")\n"
   ]
  },
  {
   "cell_type": "code",
   "execution_count": 14,
   "metadata": {},
   "outputs": [],
   "source": [
    "# Set an environment variable to store your password\n",
    "os.environ[\"EOG_PASSWORD\"] = \"your_password\""
   ]
  },
  {
   "cell_type": "code",
   "execution_count": 18,
   "metadata": {},
   "outputs": [],
   "source": [
    "# Get download links\n",
    "download_links = list_available_rasters(endswith_filter=\".median_masked.dat.tif.gz\")\n"
   ]
  },
  {
   "cell_type": "code",
   "execution_count": 38,
   "metadata": {},
   "outputs": [],
   "source": [
    "# Get files to download\n",
    "download_dir = DATA / \"raw/rasters/viirs/vnl_v2.1\"\n",
    "files_to_download = get_files_to_download(download_links, download_dir)\n",
    "# Get headers\n",
    "headers = get_headers()\n"
   ]
  },
  {
   "cell_type": "code",
   "execution_count": 39,
   "metadata": {},
   "outputs": [
    {
     "data": {
      "text/plain": [
       "1"
      ]
     },
     "execution_count": 39,
     "metadata": {},
     "output_type": "execute_result"
    }
   ],
   "source": [
    "len(files_to_download)"
   ]
  },
  {
   "cell_type": "code",
   "execution_count": 40,
   "metadata": {},
   "outputs": [
    {
     "data": {
      "text/plain": [
       "['https://eogdata.mines.edu/nighttime_light/annual/v21/2017/VNL_v21_npp_2017_global_vcmslcfg_c202205302300.median_masked.dat.tif.gz']"
      ]
     },
     "execution_count": 40,
     "metadata": {},
     "output_type": "execute_result"
    }
   ],
   "source": [
    "files_to_download[0:2]"
   ]
  },
  {
   "cell_type": "code",
   "execution_count": 41,
   "metadata": {},
   "outputs": [
    {
     "data": {
      "application/vnd.jupyter.widget-view+json": {
       "model_id": "1d8ec7ad3ee04a9d9a0d3b78a7d12873",
       "version_major": 2,
       "version_minor": 0
      },
      "text/plain": [
       "Files Downloaded:   0%|          | 0/1 [00:00<?, ?file/s]"
      ]
     },
     "metadata": {},
     "output_type": "display_data"
    },
    {
     "data": {
      "application/vnd.jupyter.widget-view+json": {
       "model_id": "315cedd743a442b585e37eb7ebe42560",
       "version_major": 2,
       "version_minor": 0
      },
      "text/plain": [
       "VNL_v21_npp_2017_global_vcmslcfg_c202205302300.median_masked.dat.tif.gz:   0%|          | 0.00/287M [00:00<?, …"
      ]
     },
     "metadata": {},
     "output_type": "display_data"
    }
   ],
   "source": [
    "# Use parfive to download files\n",
    "dl = Downloader(max_conn=1, max_splits=3, progress=True, overwrite=False)\n",
    "for file_to_queue in files_to_download:\n",
    "    dl.enqueue_file(file_to_queue, path=download_dir, headers=headers)\n",
    "# Download\n",
    "res = dl.download()\n"
   ]
  },
  {
   "cell_type": "code",
   "execution_count": 42,
   "metadata": {},
   "outputs": [
    {
     "data": {
      "text/plain": [
       "[]"
      ]
     },
     "execution_count": 42,
     "metadata": {},
     "output_type": "execute_result"
    }
   ],
   "source": [
    "res.errors"
   ]
  },
  {
   "cell_type": "code",
   "execution_count": 43,
   "metadata": {},
   "outputs": [],
   "source": [
    "# if any files error out, retry\n",
    "if res.errors:\n",
    "    sleep(5)\n",
    "    dl.retry(res)"
   ]
  },
  {
   "cell_type": "code",
   "execution_count": 46,
   "metadata": {},
   "outputs": [
    {
     "name": "stderr",
     "output_type": "stream",
     "text": [
      "100%|██████████| 11/11 [05:50<00:00, 31.87s/it]\n"
     ]
    }
   ],
   "source": [
    "# Unpack each file\n",
    "for file in tqdm(list(download_dir.glob(\"*.gz\"))):\n",
    "    # Check if already unzipped\n",
    "    if not file.with_suffix(\"\").exists():\n",
    "        unpack_file(file)\n"
   ]
  },
  {
   "cell_type": "code",
   "execution_count": null,
   "metadata": {},
   "outputs": [],
   "source": []
  }
 ],
 "metadata": {
  "kernelspec": {
   "display_name": "Python [conda env:cid] *",
   "language": "python",
   "name": "conda-env-cid-py"
  },
  "language_info": {
   "codemirror_mode": {
    "name": "ipython",
    "version": 3
   },
   "file_extension": ".py",
   "mimetype": "text/x-python",
   "name": "python",
   "nbconvert_exporter": "python",
   "pygments_lexer": "ipython3",
   "version": "3.10.8"
  },
  "orig_nbformat": 4
 },
 "nbformat": 4,
 "nbformat_minor": 2
}
